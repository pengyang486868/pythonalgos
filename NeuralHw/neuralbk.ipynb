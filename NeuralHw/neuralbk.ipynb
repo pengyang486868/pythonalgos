{
 "cells": [
  {
   "cell_type": "code",
   "execution_count": 45,
   "metadata": {
    "collapsed": true
   },
   "outputs": [],
   "source": [
    "import matplotlib.pyplot as plt\n",
    "import numpy as np\n",
    "\n",
    "\n",
    "# display one face\n",
    "def displayoneimage(image, title=''):\n",
    "    global image_count\n",
    "    image_count += 1\n",
    "    plt.figure(image_count)\n",
    "    current_face = np.reshape(image, (20, 20), order='F')\n",
    "    # image_count += 1\n",
    "    # plt.figure(image_count)\n",
    "    plt.title(title)\n",
    "    plt.imshow(current_face, cmap=plt.cm.gray)\n",
    "\n",
    "\n",
    "def readdata(path, shape):\n",
    "    infile = open(path, 'r')\n",
    "    img_data = infile.read().strip().split('\\n')\n",
    "    img = [map(float, a.strip().split(',')) for a in img_data]\n",
    "    pixels = []\n",
    "    for p in img:\n",
    "        pixels += p\n",
    "    return np.reshape(pixels, shape)\n",
    "\n",
    "\n",
    "def sigmoid(d):\n",
    "    return 1/(1+np.exp(-1*d))"
   ]
  },
  {
   "cell_type": "code",
   "execution_count": 24,
   "metadata": {},
   "outputs": [],
   "source": [
    "hidden_dim = 25\n",
    "input_dim = 400\n",
    "output_dim = 10\n",
    "\n",
    "images_raw = readdata(r'G:\\pythonalgos\\NeuralHw\\ps5_data.csv', (-1, input_dim))\n",
    "images = []\n",
    "for im in images_raw:\n",
    "    images.append(np.append(im, [1]))\n",
    "images = np.array(images)\n",
    "\n",
    "labels_raw = readdata(r'G:\\pythonalgos\\NeuralHw\\ps5_data-labels.csv', (-1, 1))\n",
    "labels = np.zeros((labels_raw.shape[0], 10), dtype=int)\n",
    "labels_raw_pos = 0\n",
    "for lraw in labels_raw:\n",
    "    curpos = int(lraw)\n",
    "    if curpos == 10:\n",
    "        curpos = 0\n",
    "    labels[labels_raw_pos, curpos] = 1\n",
    "    labels_raw_pos += 1\n",
    "\n",
    "theta1 = readdata(r'G:\\pythonalgos\\NeuralHw\\ps5_theta1.csv', (hidden_dim, -1))\n",
    "theta2 = readdata(r'G:\\pythonalgos\\NeuralHw\\ps5_theta2.csv', (output_dim, -1))\n",
    "\n",
    "image_count = 0"
   ]
  },
  {
   "cell_type": "code",
   "execution_count": 25,
   "metadata": {},
   "outputs": [
    {
     "name": "stdout",
     "output_type": "stream",
     "text": [
      "2\n6\n8\n"
     ]
    },
    {
     "data": {
      "text/plain": [
       "(5000, 401)"
      ]
     },
     "execution_count": 25,
     "metadata": {},
     "output_type": "execute_result"
    },
    {
     "data": {
      "image/png": "[encoded data removed]",
      "text/plain": [
       "<Figure size 432x288 with 1 Axes>"
      ]
     },
     "metadata": {},
     "output_type": "display_data"
    },
    {
     "data": {
      "image/png": "[encoded data removed]",
      "text/plain": [
       "<Figure size 432x288 with 1 Axes>"
      ]
     },
     "metadata": {},
     "output_type": "display_data"
    },
    {
     "data": {
      "image/png": "[encoded data removed]",
      "text/plain": [
       "<Figure size 432x288 with 1 Axes>"
      ]
     },
     "metadata": {},
     "output_type": "display_data"
    }
   ],
   "source": [
    "# test raw data\n",
    "\n",
    "displayoneimage(images_raw[1000])\n",
    "displayoneimage(images_raw[3000])\n",
    "displayoneimage(images_raw[4000])\n",
    "print(np.argmax(labels[1000]))\n",
    "print(np.argmax(labels[3000]))\n",
    "print(np.argmax(labels[4000]))\n",
    "#print(images[0])\n",
    "images.shape"
   ]
  },
  {
   "cell_type": "code",
   "execution_count": 47,
   "metadata": {},
   "outputs": [
    {
     "data": {
      "text/plain": [
       "array([0.38873915, 0.21036643, 0.22763938, ..., 0.25579584, 0.48018408,\n       0.94998022])"
      ]
     },
     "execution_count": 47,
     "metadata": {},
     "output_type": "execute_result"
    }
   ],
   "source": [
    "hiddenval_raw = np.matmul(theta1, images)\n",
    "hiddenval=sigmoid(hiddenval_raw)\n",
    "hiddenval[0]"
   ]
  },
  {
   "cell_type": "code",
   "execution_count": null,
   "metadata": {},
   "outputs": [],
   "source": []
  }
 ],
 "metadata": {
  "kernelspec": {
   "display_name": "Python 2",
   "language": "python",
   "name": "python2"
  },
  "language_info": {
   "codemirror_mode": {
    "name": "ipython",
    "version": 2
   },
   "file_extension": ".py",
   "mimetype": "text/x-python",
   "name": "python",
   "nbconvert_exporter": "python",
   "pygments_lexer": "ipython2",
   "version": "2.7.6"
  }
 },
 "nbformat": 4,
 "nbformat_minor": 0
}
