{
 "cells": [
  {
   "cell_type": "markdown",
   "metadata": {},
   "source": [
    "# Character level language model - Dinosaurus land\n",
    "\n",
    "Welcome to Dinosaurus Island! 65 million years ago, dinosaurs existed, and in this assignment they are back. You are in charge of a special task. Leading biology researchers are creating new breeds of dinosaurs and bringing them to life on earth, and your job is to give names to these dinosaurs. If a dinosaur does not like its name, it might go beserk, so choose wisely! \n",
    "\n",
    "<table>\n",
    "<td>\n",
    "<img src=\"images/dino.jpg\" style=\"width:250;height:300px;\">\n",
    "\n",
    "</td>\n",
    "\n",
    "</table>\n",
    "\n",
    "Luckily you have learned some deep learning and you will use it to save the day. Your assistant has collected a list of all the dinosaur names they could find, and compiled them into this [dataset](dinos.txt). (Feel free to take a look by clicking the previous link.) To create new dinosaur names, you will build a character level language model to generate new names. Your algorithm will learn the different name patterns, and randomly generate new names. Hopefully this algorithm will keep you and your team safe from the dinosaurs' wrath! \n",
    "\n",
    "By completing this assignment you will learn:\n",
    "\n",
    "- How to store text data for processing using an RNN \n",
    "- How to synthesize data, by sampling predictions at each time step and passing it to the next RNN-cell unit\n",
    "- How to build a character-level text generation recurrent neural network\n"
   ]
  },
  {
   "cell_type": "code",
   "execution_count": 1,
   "metadata": {},
   "outputs": [],
   "source": [
    "import numpy as np\n",
    "import random\n",
    "import torch\n",
    "import torch.nn as nn\n",
    "import torch.nn.functional as F\n",
    "import torch.optim as optim\n",
    "import pdb\n",
    "from torch.utils.data import Dataset, DataLoader\n",
    "\n",
    "%load_ext autoreload\n",
    "%autoreload 2\n",
    "\n",
    "torch.set_printoptions(linewidth=200)"
   ]
  },
  {
   "cell_type": "markdown",
   "metadata": {},
   "source": [
    "## 1 - Problem Statement\n",
    "\n",
    "### 1.1 - Dataset and Preprocessing\n",
    "\n",
    "Run the following cell to read the dataset of dinosaur names `dinos.txt`, create a list of unique characters (such as a-z), and compute the dataset and vocabulary size.\n",
    "\n",
    "The characters are a-z (26 characters) plus the \"\\n\" (or newline character), which in this assignment plays a role similar to the `<EOS>` (or \"End of sentence\") token. It indicates the end of the dinosaur name.\n",
    "\n",
    "**TO DO**: In the cell below, you need to create two python dictionaries (i.e., hash tables) to map each character to an index from 0-26 and to map each index back to the corresponding character. \n",
    "\n",
    "This will help you figure out what index corresponds to what character in the probability distribution output of the softmax layer. Below, `self.ch_to_idx` and `self.idx_to_ch` are the python dictionaries. \n",
    "\n",
    "`__getitem__` is essential when using `DataLoader` later in the algorithm. The first entry of `x_str` being ` ` will be interpreted by setting $x^{\\langle 0 \\rangle} = \\vec{0}$. Further, this ensures that `y` is equal to `x` but shifted one step to the left, and with an additional \"\\n\" appended to signify the end of the dinosaur name. "
   ]
  },
  {
   "cell_type": "code",
   "execution_count": 2,
   "metadata": {
    "code_folding": []
   },
   "outputs": [],
   "source": [
    "hidden_size = 100\n",
    "\n",
    "class DinosDataset(Dataset):\n",
    "    def __init__(self):\n",
    "        super().__init__()\n",
    "        with open('G:\\pythonalgos\\RNNhw\\dinos.txt') as f:\n",
    "            content = f.read().lower()\n",
    "            self.vocab = sorted(set(content)) #num of character (27 in this case)\n",
    "            self.vocab_size = len(self.vocab)\n",
    "            self.lines = content.splitlines()\n",
    "        # TO DO\n",
    "        # YOUR CODE HERE\n",
    "        self.ch_to_idx = {}\n",
    "        self.idx_to_ch = {}\n",
    "        for i in range(97,97+26):\n",
    "            temp_i = i-96\n",
    "            self.ch_to_idx[chr(i)] = temp_i\n",
    "            self.idx_to_ch[temp_i] = chr(i)\n",
    "        self.ch_to_idx[\"\\n\"] = 0\n",
    "        self.idx_to_ch[0] = \"\\n\"\n",
    "    \n",
    "    def __getitem__(self, index):\n",
    "        line = self.lines[index]\n",
    "        x_str = ' ' + line # add a space at the beginning, which indicates a vector of zeros.\n",
    "        y_str = line + '\\n'\n",
    "        x = torch.zeros([len(x_str), self.vocab_size], dtype=torch.float)\n",
    "        y = torch.empty(len(x_str), dtype=torch.long)\n",
    "        \n",
    "        y[0] = self.ch_to_idx[y_str[0]]\n",
    "        #we start from the second character because the first character of x was nothing(vector of zeros).\n",
    "        for i, (x_ch, y_ch) in enumerate(zip(x_str[1:], y_str[1:]), 1):\n",
    "            x[i][self.ch_to_idx[x_ch]] = 1\n",
    "            y[i] = self.ch_to_idx[y_ch]\n",
    "        \n",
    "        return x, y\n",
    "    \n",
    "    def __len__(self):\n",
    "        return len(self.lines)"
   ]
  },
  {
   "cell_type": "code",
   "execution_count": 3,
   "metadata": {},
   "outputs": [
    {
     "name": "stdout",
     "output_type": "stream",
     "text": [
      "['\\n', 'a', 'b', 'c', 'd', 'e', 'f', 'g', 'h', 'i', 'j', 'k', 'l', 'm', 'n', 'o', 'p', 'q', 'r', 's', 't', 'u', 'v', 'w', 'x', 'y', 'z']\ndict_keys([1, 2, 3, 4, 5, 6, 7, 8, 9, 10, 11, 12, 13, 14, 15, 16, 17, 18, 19, 20, 21, 22, 23, 24, 25, 26, 0])\n"
     ]
    }
   ],
   "source": [
    "d = DinosDataset()\n",
    "print(d.vocab)\n",
    "print(d.idx_to_ch.keys())"
   ]
  },
  {
   "cell_type": "markdown",
   "metadata": {},
   "source": [
    "### 1.2 - Overview of the Recurrent Neural Network\n",
    "\n",
    "**TO DO**: Implement your RNN model class. Your RNN model will have the following structure: \n",
    "    \n",
    "<img src=\"images/RNN.png\" style=\"width:450;height:300px;\">\n",
    "<caption><center> **Figure 1**: Recurrent Neural Network.  </center></caption>\n",
    "\n",
    "At each time-step, the RNN tries to predict what is the next character given the previous characters. The dataset $X = (x^{\\langle 1 \\rangle}, x^{\\langle 2 \\rangle}, ..., x^{\\langle T_x \\rangle})$ is a list of characters in the training set, while $Y = (y^{\\langle 1 \\rangle}, y^{\\langle 2 \\rangle}, ..., y^{\\langle T_x \\rangle})$ , such that at every time-step $t$, we have $y^{\\langle t \\rangle} = x^{\\langle t+1 \\rangle}$. "
   ]
  },
  {
   "cell_type": "code",
   "execution_count": 4,
   "metadata": {
    "code_folding": []
   },
   "outputs": [],
   "source": [
    "class RNN(nn.Module):\n",
    "    def __init__(self,hidden_dim,input_dim=27,output_dim=27):\n",
    "        super().__init__()\n",
    "        # TO DO\n",
    "        # YOUR CODE HERE\n",
    "        #in this case the dimension of x^(i) is 27, the dimension of a^(i) is defined by user\n",
    "        self.hidden_dim = hidden_dim\n",
    "        self.fc1 = nn.Linear(input_dim+hidden_dim, hidden_dim) #w_ax\n",
    "        self.fc2 = nn.Linear(input_dim+hidden_dim, output_dim) #w_aa\n",
    "        \n",
    "    def forward(self,x0,a0):\n",
    "        # TO DO\n",
    "        # YOUR CODE HERE\n",
    "        combined = torch.cat((x0, a0), 1)\n",
    "        #combined = torch.squeeze(combined)\n",
    "        #print(\"com:\",combined.shape)\n",
    "        a = self.fc1(combined)\n",
    "        y = self.fc2(combined)       \n",
    "        return a, y"
   ]
  },
  {
   "cell_type": "code",
   "execution_count": 5,
   "metadata": {},
   "outputs": [],
   "source": [
    "n_hidden = 128\n",
    "trn_ds = RNN(n_hidden)"
   ]
  },
  {
   "cell_type": "markdown",
   "metadata": {},
   "source": [
    "## 2 - Sampling\n",
    "\n",
    "In this part, you will build the important block of the overall language model:\n",
    "- Sampling: a technique used to generate characters\n"
   ]
  },
  {
   "cell_type": "markdown",
   "metadata": {},
   "source": [
    "Now assume that your model is trained. You would like to generate new text (characters). The process of generation is explained in the picture below:\n",
    "\n",
    "<img src=\"images/dinos3.png\" style=\"width:500;height:300px;\">\n",
    "<caption><center> **Figure 2**: In this picture, we assume the model is already trained. We pass in $x^{\\langle 1\\rangle} = \\vec{0}$ at the first time step, and have the network then sample one character at a time. </center></caption>\n",
    "\n",
    "**TO DO**: Implement the `sample` function below to sample characters. You need to carry out 4 steps:\n",
    "\n",
    "- **Step 1**: Pass the network the first \"dummy\" input $x^{\\langle 1 \\rangle} = \\vec{0}$ (the vector of zeros). This is the default input before we've generated any characters. We also set $a^{\\langle 0 \\rangle} = \\vec{0}$\n",
    "\n",
    "- **Step 2**: Run one step of forward propagation to get $a^{\\langle 1 \\rangle}$ and $\\hat{y}^{\\langle 1 \\rangle}$. Here are the equations:\n",
    "\n",
    "$$ a^{\\langle t+1 \\rangle} = \\tanh(W_{ax}  x^{\\langle t \\rangle } + W_{aa} a^{\\langle t \\rangle } + b)\\tag{1}$$\n",
    "\n",
    "$$ z^{\\langle t + 1 \\rangle } = W_{ya}  a^{\\langle t + 1 \\rangle } + b_y \\tag{2}$$\n",
    "\n",
    "$$ \\hat{y}^{\\langle t+1 \\rangle } = softmax(z^{\\langle t + 1 \\rangle })\\tag{3}$$\n",
    "\n",
    "Note that $\\hat{y}^{\\langle t+1 \\rangle }$ is a (softmax) probability vector (its entries are between 0 and 1 and sum to 1). $\\hat{y}^{\\langle t+1 \\rangle}_i$ represents the probability that the character indexed by \"i\".\n",
    "\n",
    "- **Step 3**: Carry out sampling: Pick the next character's index according to the probability distribution specified by $\\hat{y}^{\\langle t+1 \\rangle }$. This means that if $\\hat{y}^{\\langle t+1 \\rangle }_i = 0.16$, you will pick the index \"i\" with 16% probability. To implement it, you can use [`np.random.choice`](https://docs.scipy.org/doc/numpy-1.13.0/reference/generated/numpy.random.choice.html).\n",
    "\n",
    "Here is an example of how to use `np.random.choice()`:\n",
    "```python\n",
    "np.random.seed(0)\n",
    "p = np.array([0.1, 0.0, 0.7, 0.2])\n",
    "index = np.random.choice([0, 1, 2, 3], p = p.ravel())\n",
    "```\n",
    "This means that you will pick the `index` according to the distribution: \n",
    "$P(index = 0) = 0.1, P(index = 1) = 0.0, P(index = 2) = 0.7, P(index = 3) = 0.2$.\n",
    "\n",
    "- **Step 4**: The last step to implement in `sample()` is to overwrite the variable `x`, which currently stores $x^{\\langle t \\rangle }$, with the value of $x^{\\langle t + 1 \\rangle }$. You will represent $x^{\\langle t + 1 \\rangle }$ by creating a one-hot vector corresponding to the character you've chosen as your prediction. You will then forward propagate $x^{\\langle t + 1 \\rangle }$ in Step 1 and keep repeating the process until you get a \"\\n\" character, indicating you've reached the end of the dinosaur name. "
   ]
  },
  {
   "cell_type": "code",
   "execution_count": 6,
   "metadata": {
    "code_folding": []
   },
   "outputs": [],
   "source": [
    "def sample(model):\n",
    "    model.eval()\n",
    "    word_size=0\n",
    "    newline_idx = trn_ds.ch_to_idx['\\n']\n",
    "    indices = []\n",
    "    pred_char_idx = -1\n",
    "    hidden_dim = model.hidden_dim\n",
    "    input_dim = 27\n",
    "    \n",
    "    # Step 1: initialize first input and hidden state\n",
    "    # YOUR CODE HERE\n",
    "    h_prev = torch.zeros([1,hidden_dim], dtype=torch.float) #same as a^(i)\n",
    "    x = torch.zeros(1,input_dim)\n",
    "    \n",
    "    with torch.no_grad():\n",
    "        while pred_char_idx != newline_idx and word_size != 50:\n",
    "            # Step 2: Forward propagate x using the equations (1), (2) and (3)\n",
    "            # YOUR CODE HERE\n",
    "            h_prev,y = model.forward(x,h_prev)\n",
    "            #print(\"y:\",y)\n",
    "            y_hat = F.softmax(y)\n",
    "            #print(\"y_hat1:\",y_hat)\n",
    "            y_hat = torch.squeeze(y_hat)\n",
    "            #print(\"y_hat2:\",y_hat)\n",
    "            y_hatnp = y_hat.numpy()\n",
    "            #if word_size == 2:\n",
    "                #print(y_hatnp)\n",
    "            #print(sum(y_hatnp))\n",
    "    \n",
    "            np.random.seed(np.random.randint(1, 5000))\n",
    "            # Step 3: Sample the index of a character within the vocabulary from the probability distribution\n",
    "            # YOUR CODE HERE\n",
    "            idx = np.random.choice(27,1,p=y_hatnp)[0]\n",
    "            indices.append(idx)\n",
    "            \n",
    "            # Step 4: Overwrite the input character as the one corresponding to the sampled index.\n",
    "            # YOUR CODE HERE\n",
    "            x = torch.zeros(1,input_dim)\n",
    "            x[0][idx] = 1\n",
    "            \n",
    "            pred_char_idx = idx \n",
    "            word_size += 1\n",
    "        if word_size == 50:\n",
    "            indices.append(newline_idx)\n",
    "    return indices\n",
    "\n",
    "def print_sample(sample_idxs):\n",
    "    print(trn_ds.idx_to_ch[sample_idxs[0]].upper(), end='')\n",
    "    [print(trn_ds.idx_to_ch[x], end='') for x in sample_idxs[1:]]"
   ]
  },
  {
   "cell_type": "markdown",
   "metadata": {},
   "source": [
    "## 3 - Training the language model \n",
    "\n",
    "It is time to train the character-level language model for text generation. \n",
    "\n",
    "### 3.1 - Gradient descent \n",
    "\n",
    "**TO DO**: In this section you will implement a function performing one epoch of training steps(with clipped gradients). You will go through the training examples one at a time, so the optimization algorithm will be stochastic gradient descent. \n",
    "Before running the optimization loop, you need to first initialize parameters.\n",
    "\n",
    "As a reminder, here are the steps of a common optimization loop for an RNN:\n",
    "\n",
    "- Forward propagate through the RNN to compute the loss\n",
    "- Backward propagate through time to compute the gradients of the loss with respect to the parameters\n",
    "- Clip the gradients if necessary \n",
    "- Update your parameters using gradient descent \n",
    "\n",
    "Every 100 steps of stochastic gradient descent, you will sample 1 name to see how the algorithm is doing. "
   ]
  },
  {
   "cell_type": "code",
   "execution_count": 7,
   "metadata": {
    "code_folding": []
   },
   "outputs": [],
   "source": [
    "def train_one_epoch(model, loss_fn, optimizer):\n",
    "    # Go through the training examples one at a time\n",
    "    \n",
    "    hidden_dim = model.hidden_dim\n",
    "    for line_num, (x, y) in enumerate(trn_dl):\n",
    "        model.train()\n",
    "        loss = 0\n",
    "        optimizer.zero_grad()\n",
    "        #print(x)\n",
    "        #print(y)\n",
    "        \n",
    "        # Initialize parameters\n",
    "        # YOUR CODE HERE\n",
    "        h_prev = torch.zeros([1,hidden_dim], dtype=torch.float)\n",
    "        \n",
    "        for i in range(x.shape[1]):\n",
    "            # Forward propagate through the RNN to compute the loss\n",
    "            # YOUR CODE HERE\n",
    "            h_prev,y_out = model.forward(x[:,i],h_prev)\n",
    "            #print(\"h_prev:\",h_prev)\n",
    "            #print(\"y_out\",y_out)\n",
    "            y_hat = F.softmax(y_out)\n",
    "            #print(\"y_hat\",y_hat)\n",
    "            #print(\"y_hat type:\",type(y_hat[0][0]))\n",
    "            y_old = torch.zeros([1,27], dtype=torch.long)\n",
    "            #print(\"y_old\",y_old)\n",
    "            #print(\"y_old type:\",type(y_old[0][0]))\n",
    "            y_old[0][y[0][i]] = 1\n",
    "            if i == 0:\n",
    "                y_ori = y_old\n",
    "                y_h = y_hat\n",
    "            else:\n",
    "                y_ori = torch.cat((y_ori, y_old), 0)\n",
    "                y_h = torch.cat((y_h, y_hat), 0)\n",
    "        #print(\"y_ori\",y_ori)\n",
    "        #print(\"y_h\",y_h)\n",
    "        targetnp=y_ori.numpy()\n",
    "        idxs=np.where(targetnp>0)[1]\n",
    "        new_targets=torch.LongTensor(idxs)\n",
    "        loss = loss_fn(y_h,new_targets)\n",
    "            \n",
    "        #Every 100 steps of stochastic gradient descent, print one sampled name to see how the algorithm is doing\n",
    "        if (line_num+1) % 100 == 0:\n",
    "            # YOUR CODE HERE\n",
    "            # HINT: print_sample()\n",
    "            indices = sample(model)\n",
    "            print_sample(indices)\n",
    "            print(loss)\n",
    "        \n",
    "        # Backpropagate through time\n",
    "        # YOUR CODE HERE\n",
    "        loss.backward()\n",
    "        \n",
    "        # Clip your gradients\n",
    "        torch.nn.utils.clip_grad_norm_(model.parameters(), 5)\n",
    "        \n",
    "        # Update parameters\n",
    "        # YOUR CODE HERE\n",
    "        optimizer.step()\n",
    "        \n",
    "        "
   ]
  },
  {
   "cell_type": "markdown",
   "metadata": {},
   "source": [
    "### 3.2 - Begin Training\n",
    "Remember to shuffle the dataset, so that stochastic gradient descent visits the examples in random order. \n",
    "\n",
    "**TO DO**: Follow the instructions and implement `train()`. "
   ]
  },
  {
   "cell_type": "code",
   "execution_count": 8,
   "metadata": {
    "code_folding": []
   },
   "outputs": [],
   "source": [
    "trn_ds = DinosDataset()\n",
    "trn_dl = DataLoader(trn_ds, batch_size=1, shuffle=True)\n",
    "\n",
    "def train(trn_ds, trn_dl, epochs=1):\n",
    "    # Create a new model, loss_fn and optimizer.\n",
    "    # YOUR CODE HERE\n",
    "    model = RNN(128)\n",
    "    # Use cross entropy loss\n",
    "    loss_fn = nn.CrossEntropyLoss()\n",
    "    # Use Adam\n",
    "    optimizer = optim.Adam(model.parameters(),lr=1e-3)\n",
    "    \n",
    "    for e in range(1, epochs+1):\n",
    "        print(f'{\"-\"*20} Epoch {e} {\"-\"*20}')\n",
    "        train_one_epoch(model, loss_fn, optimizer)"
   ]
  },
  {
   "cell_type": "code",
   "execution_count": 9,
   "metadata": {
    "scrolled": true
   },
   "outputs": [
    {
     "name": "stdout",
     "output_type": "stream",
     "text": [
      "-------------------- Epoch 1 --------------------\n"
     ]
    },
    {
     "name": "stderr",
     "output_type": "stream",
     "text": [
      "g:\\pythonalgos\\venv\\lib\\site-packages\\ipykernel_launcher.py:22: UserWarning: Implicit dimension choice for softmax has been deprecated. Change the call to include dim=X as an argument.\n"
     ]
    },
    {
     "name": "stderr",
     "output_type": "stream",
     "text": [
      "g:\\pythonalgos\\venv\\lib\\site-packages\\ipykernel_launcher.py:21: UserWarning: Implicit dimension choice for softmax has been deprecated. Change the call to include dim=X as an argument.\n"
     ]
    },
    {
     "name": "stdout",
     "output_type": "stream",
     "text": [
      "Grahsnuuuuuuuuuuuuuuuuuuuuuuuuuuuuuuuuuuuuuuuuuuuu\ntensor(3.2129, grad_fn=<NllLossBackward>)\n"
     ]
    },
    {
     "name": "stdout",
     "output_type": "stream",
     "text": [
      "Xoehrnaouussssusussassssusssssssssssssssssssssssss\ntensor(3.2886, grad_fn=<NllLossBackward>)\n"
     ]
    },
    {
     "name": "stdout",
     "output_type": "stream",
     "text": [
      "X\ntensor(3.2641, grad_fn=<NllLossBackward>)\n"
     ]
    },
    {
     "name": "stdout",
     "output_type": "stream",
     "text": [
      "Cse\ntensor(3.1927, grad_fn=<NllLossBackward>)\n"
     ]
    },
    {
     "name": "stdout",
     "output_type": "stream",
     "text": [
      "Masaurus\ntensor(2.8443, grad_fn=<NllLossBackward>)\n"
     ]
    },
    {
     "name": "stdout",
     "output_type": "stream",
     "text": [
      "Youaurus\ntensor(3.0157, grad_fn=<NllLossBackward>)\n"
     ]
    },
    {
     "name": "stdout",
     "output_type": "stream",
     "text": [
      "Sourus\ntensor(3.1830, grad_fn=<NllLossBackward>)\n"
     ]
    },
    {
     "name": "stdout",
     "output_type": "stream",
     "text": [
      "Tsaurasaoras\ntensor(2.8415, grad_fn=<NllLossBackward>)\n"
     ]
    },
    {
     "name": "stdout",
     "output_type": "stream",
     "text": [
      "Crnanasaurus\ntensor(2.7919, grad_fn=<NllLossBackward>)\n"
     ]
    },
    {
     "name": "stdout",
     "output_type": "stream",
     "text": [
      "Yosaurus\ntensor(2.8780, grad_fn=<NllLossBackward>)\n"
     ]
    },
    {
     "name": "stdout",
     "output_type": "stream",
     "text": [
      "Smusus\ntensor(2.8171, grad_fn=<NllLossBackward>)\n"
     ]
    },
    {
     "name": "stdout",
     "output_type": "stream",
     "text": [
      "Traooaasaurus\ntensor(2.8203, grad_fn=<NllLossBackward>)\n"
     ]
    },
    {
     "name": "stdout",
     "output_type": "stream",
     "text": [
      "Tiannsaurus\ntensor(3.2439, grad_fn=<NllLossBackward>)\n"
     ]
    },
    {
     "name": "stdout",
     "output_type": "stream",
     "text": [
      "Yosaurus\ntensor(3.1661, grad_fn=<NllLossBackward>)\n"
     ]
    },
    {
     "name": "stdout",
     "output_type": "stream",
     "text": [
      "Saurus\ntensor(2.8867, grad_fn=<NllLossBackward>)\n-------------------- Epoch 2 --------------------\n"
     ]
    },
    {
     "name": "stdout",
     "output_type": "stream",
     "text": [
      "Toaaoaasaurus\ntensor(3.2670, grad_fn=<NllLossBackward>)\n"
     ]
    },
    {
     "name": "stdout",
     "output_type": "stream",
     "text": [
      "Taaaosaurus\ntensor(2.7375, grad_fn=<NllLossBackward>)\n"
     ]
    },
    {
     "name": "stdout",
     "output_type": "stream",
     "text": [
      "Yaoaosaurus\ntensor(2.7960, grad_fn=<NllLossBackward>)\n"
     ]
    },
    {
     "name": "stdout",
     "output_type": "stream",
     "text": [
      "Zonoosaurus\ntensor(3.0381, grad_fn=<NllLossBackward>)\n"
     ]
    },
    {
     "name": "stdout",
     "output_type": "stream",
     "text": [
      "Aoaoaasaurus\ntensor(2.7443, grad_fn=<NllLossBackward>)\n"
     ]
    },
    {
     "name": "stdout",
     "output_type": "stream",
     "text": [
      "Ianansaurus\ntensor(3.1515, grad_fn=<NllLossBackward>)\n"
     ]
    },
    {
     "name": "stdout",
     "output_type": "stream",
     "text": [
      "Manoosaurus\ntensor(2.7939, grad_fn=<NllLossBackward>)\n"
     ]
    },
    {
     "name": "stdout",
     "output_type": "stream",
     "text": [
      "Jaaaoaoosaurus\ntensor(3.1750, grad_fn=<NllLossBackward>)\n"
     ]
    },
    {
     "name": "stdout",
     "output_type": "stream",
     "text": [
      "Donaaoassuu\ntensor(2.7713, grad_fn=<NllLossBackward>)\n"
     ]
    },
    {
     "name": "stdout",
     "output_type": "stream",
     "text": [
      "Tooanosaurus\ntensor(2.8209, grad_fn=<NllLossBackward>)\n"
     ]
    },
    {
     "name": "stdout",
     "output_type": "stream",
     "text": [
      "Uanonasaurus\ntensor(2.7781, grad_fn=<NllLossBackward>)\n"
     ]
    },
    {
     "name": "stdout",
     "output_type": "stream",
     "text": [
      "Sanrosaurus\ntensor(3.0229, grad_fn=<NllLossBackward>)\n"
     ]
    },
    {
     "name": "stdout",
     "output_type": "stream",
     "text": [
      "Yanaooooasausus\ntensor(3.0490, grad_fn=<NllLossBackward>)\n"
     ]
    },
    {
     "name": "stdout",
     "output_type": "stream",
     "text": [
      "Sanros\ntensor(3.2203, grad_fn=<NllLossBackward>)\n"
     ]
    },
    {
     "name": "stdout",
     "output_type": "stream",
     "text": [
      "Tanasaurus\ntensor(3.0702, grad_fn=<NllLossBackward>)\n-------------------- Epoch 3 --------------------\n"
     ]
    },
    {
     "name": "stdout",
     "output_type": "stream",
     "text": [
      "Cinanoaaros\ntensor(2.8580, grad_fn=<NllLossBackward>)\n"
     ]
    },
    {
     "name": "stdout",
     "output_type": "stream",
     "text": [
      "Tosaurus\ntensor(2.7723, grad_fn=<NllLossBackward>)\n"
     ]
    },
    {
     "name": "stdout",
     "output_type": "stream",
     "text": [
      "Tanosaurus\ntensor(3.2229, grad_fn=<NllLossBackward>)\n"
     ]
    },
    {
     "name": "stdout",
     "output_type": "stream",
     "text": [
      "Anasaurus\ntensor(3.3054, grad_fn=<NllLossBackward>)\n"
     ]
    },
    {
     "name": "stdout",
     "output_type": "stream",
     "text": [
      "Cnanasaurus\ntensor(2.9206, grad_fn=<NllLossBackward>)\n"
     ]
    },
    {
     "name": "stdout",
     "output_type": "stream",
     "text": [
      "Saurosaurus\ntensor(3.2086, grad_fn=<NllLossBackward>)\n"
     ]
    },
    {
     "name": "stdout",
     "output_type": "stream",
     "text": [
      "Saarosaurus\ntensor(3.1893, grad_fn=<NllLossBackward>)\n"
     ]
    },
    {
     "name": "stdout",
     "output_type": "stream",
     "text": [
      "\ntensor(3.1092, grad_fn=<NllLossBackward>)\n"
     ]
    },
    {
     "name": "stdout",
     "output_type": "stream",
     "text": [
      "Bananosaurus\ntensor(2.8064, grad_fn=<NllLossBackward>)\n"
     ]
    },
    {
     "name": "stdout",
     "output_type": "stream",
     "text": [
      "Xanaoooa\ntensor(2.7614, grad_fn=<NllLossBackward>)\n"
     ]
    },
    {
     "name": "stdout",
     "output_type": "stream",
     "text": [
      "Ranosaurus\ntensor(2.7322, grad_fn=<NllLossBackward>)\n"
     ]
    },
    {
     "name": "stdout",
     "output_type": "stream",
     "text": [
      "Lanonosaurus\ntensor(3.1310, grad_fn=<NllLossBackward>)\n"
     ]
    },
    {
     "name": "stdout",
     "output_type": "stream",
     "text": [
      "Manooaoaosaurus\ntensor(2.5973, grad_fn=<NllLossBackward>)\n"
     ]
    },
    {
     "name": "stdout",
     "output_type": "stream",
     "text": [
      "Manoosaurus\ntensor(3.2234, grad_fn=<NllLossBackward>)\n"
     ]
    },
    {
     "name": "stdout",
     "output_type": "stream",
     "text": [
      "Jaanosaurus\ntensor(2.7811, grad_fn=<NllLossBackward>)\n-------------------- Epoch 4 --------------------\n"
     ]
    },
    {
     "name": "stdout",
     "output_type": "stream",
     "text": [
      "Manosaurus\ntensor(3.0956, grad_fn=<NllLossBackward>)\n"
     ]
    },
    {
     "name": "stdout",
     "output_type": "stream",
     "text": [
      "Xannosaurus\ntensor(2.8167, grad_fn=<NllLossBackward>)\n"
     ]
    },
    {
     "name": "stdout",
     "output_type": "stream",
     "text": [
      "Yanasaurus\ntensor(2.7076, grad_fn=<NllLossBackward>)\n"
     ]
    },
    {
     "name": "stdout",
     "output_type": "stream",
     "text": [
      "Saurua\ntensor(2.7111, grad_fn=<NllLossBackward>)\n"
     ]
    },
    {
     "name": "stdout",
     "output_type": "stream",
     "text": [
      "Saarosaurus\ntensor(3.1960, grad_fn=<NllLossBackward>)\n"
     ]
    },
    {
     "name": "stdout",
     "output_type": "stream",
     "text": [
      "Wananosaurus\ntensor(3.1364, grad_fn=<NllLossBackward>)\n"
     ]
    },
    {
     "name": "stdout",
     "output_type": "stream",
     "text": [
      "Saurus\ntensor(2.7579, grad_fn=<NllLossBackward>)\n"
     ]
    },
    {
     "name": "stdout",
     "output_type": "stream",
     "text": [
      "Lanoasaurus\ntensor(2.7945, grad_fn=<NllLossBackward>)\n"
     ]
    },
    {
     "name": "stdout",
     "output_type": "stream",
     "text": [
      "\ntensor(3.1525, grad_fn=<NllLossBackward>)\n"
     ]
    },
    {
     "name": "stdout",
     "output_type": "stream",
     "text": [
      "Manosaurus\ntensor(2.8697, grad_fn=<NllLossBackward>)\n"
     ]
    },
    {
     "name": "stdout",
     "output_type": "stream",
     "text": [
      "Uanosaurus\ntensor(2.9634, grad_fn=<NllLossBackward>)\n"
     ]
    },
    {
     "name": "stdout",
     "output_type": "stream",
     "text": [
      "Saurus\ntensor(3.1204, grad_fn=<NllLossBackward>)\n"
     ]
    },
    {
     "name": "stdout",
     "output_type": "stream",
     "text": [
      "Lanoosaurus\ntensor(2.7049, grad_fn=<NllLossBackward>)\n"
     ]
    },
    {
     "name": "stdout",
     "output_type": "stream",
     "text": [
      "\ntensor(3.0647, grad_fn=<NllLossBackward>)\n"
     ]
    },
    {
     "name": "stdout",
     "output_type": "stream",
     "text": [
      "Manosaurus\ntensor(2.8788, grad_fn=<NllLossBackward>)\n-------------------- Epoch 5 --------------------\n"
     ]
    },
    {
     "name": "stdout",
     "output_type": "stream",
     "text": [
      "Uanosaurus\ntensor(2.7878, grad_fn=<NllLossBackward>)\n"
     ]
    },
    {
     "name": "stdout",
     "output_type": "stream",
     "text": [
      "Sauruosaurus\ntensor(3.0170, grad_fn=<NllLossBackward>)\n"
     ]
    },
    {
     "name": "stdout",
     "output_type": "stream",
     "text": [
      "Fanasaurus\ntensor(3.1077, grad_fn=<NllLossBackward>)\n"
     ]
    },
    {
     "name": "stdout",
     "output_type": "stream",
     "text": [
      "Hananosaurus\ntensor(2.8253, grad_fn=<NllLossBackward>)\n"
     ]
    },
    {
     "name": "stdout",
     "output_type": "stream",
     "text": [
      "Dnosaurus\ntensor(3.2507, grad_fn=<NllLossBackward>)\n"
     ]
    },
    {
     "name": "stdout",
     "output_type": "stream",
     "text": [
      "\ntensor(2.8786, grad_fn=<NllLossBackward>)\n"
     ]
    },
    {
     "name": "stdout",
     "output_type": "stream",
     "text": [
      "Iaanosaurus\ntensor(3.2632, grad_fn=<NllLossBackward>)\n"
     ]
    },
    {
     "name": "stdout",
     "output_type": "stream",
     "text": [
      "Manasaurus\ntensor(2.9968, grad_fn=<NllLossBackward>)\n"
     ]
    },
    {
     "name": "stdout",
     "output_type": "stream",
     "text": [
      "Vanasousuuuuuuuuuu\ntensor(2.9926, grad_fn=<NllLossBackward>)\n"
     ]
    },
    {
     "name": "stdout",
     "output_type": "stream",
     "text": [
      "Jaeaoaoros\ntensor(3.1612, grad_fn=<NllLossBackward>)\n"
     ]
    },
    {
     "name": "stdout",
     "output_type": "stream",
     "text": [
      "Raaoosaurus\ntensor(3.2087, grad_fn=<NllLossBackward>)\n"
     ]
    },
    {
     "name": "stdout",
     "output_type": "stream",
     "text": [
      "Uanasaurus\ntensor(3.0679, grad_fn=<NllLossBackward>)\n"
     ]
    },
    {
     "name": "stdout",
     "output_type": "stream",
     "text": [
      "Losaurus\ntensor(3.1258, grad_fn=<NllLossBackward>)\n"
     ]
    },
    {
     "name": "stdout",
     "output_type": "stream",
     "text": [
      "Lanonosaurus\ntensor(3.1392, grad_fn=<NllLossBackward>)\n"
     ]
    },
    {
     "name": "stdout",
     "output_type": "stream",
     "text": [
      "Manosaurus\ntensor(3.0085, grad_fn=<NllLossBackward>)\n"
     ]
    }
   ],
   "source": [
    "#Start training\n",
    "#When first run it, perhaps you will get wield result. I don't know why this happens.\n",
    "#If so, run this block again and it works.\n",
    "train(trn_ds, trn_dl, epochs=5)"
   ]
  },
  {
   "cell_type": "markdown",
   "metadata": {},
   "source": [
    "## Conclusion\n",
    "\n",
    "You can see that your algorithm has started to generate plausible dinosaur names towards the end of the training. At first, it was generating random characters, but towards the end you could see dinosaur names with cool endings. Feel free to run the algorithm even longer and play with hyperparameters to see if you can get even better results. Our implemetation generated some really cool names like `maconucon`, `marloralus` and `macingsersaurus`. Your model hopefully also learned that dinosaur names tend to end in `saurus`, `don`, `aura`, `tor`, etc.\n",
    "\n",
    "If your model generates some non-cool names, don't blame the model entirely--not all actual dinosaur names sound cool. (For example, `dromaeosauroides` is an actual dinosaur name and is in the training set.) But this model should give you a set of candidates from which you can pick the coolest! \n",
    "\n",
    "This assignment had used a relatively small dataset, so that you could train an RNN quickly on a CPU. Training a model of the english language requires a much bigger dataset, and usually needs much more computation, and could run for many hours on GPUs. We ran our dinosaur name for quite some time, and so far our favoriate name is the great, undefeatable, and fierce: Mangosaurus!\n",
    "\n",
    "<img src=\"images/mangosaurus.jpeg\" style=\"width:250;height:300px;\">"
   ]
  },
  {
   "cell_type": "markdown",
   "metadata": {},
   "source": [
    "Reference: this assignment is adapted from one of Andrew Ng's Deep Learning Specialization--Sequence Models labs."
   ]
  }
 ],
 "metadata": {
  "kernelspec": {
   "display_name": "Python 3",
   "language": "python",
   "name": "python3"
  },
  "language_info": {
   "codemirror_mode": {
    "name": "ipython",
    "version": 3
   },
   "file_extension": ".py",
   "mimetype": "text/x-python",
   "name": "python",
   "nbconvert_exporter": "python",
   "pygments_lexer": "ipython3",
   "version": "3.6.8"
  }
 },
 "nbformat": 4,
 "nbformat_minor": 2
}
